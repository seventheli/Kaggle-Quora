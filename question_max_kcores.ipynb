{
 "cells": [
  {
   "cell_type": "code",
   "execution_count": 1,
   "metadata": {
    "collapsed": true
   },
   "outputs": [],
   "source": [
    "import numpy as np # linear algebra\n",
    "import pandas as pd # data processing, CSV file I/O (e.g. pd.read_csv)\n",
    "from collections import defaultdict\n",
    "import networkx as nx"
   ]
  },
  {
   "cell_type": "code",
   "execution_count": 2,
   "metadata": {
    "collapsed": false
   },
   "outputs": [],
   "source": [
    "train_orig =  pd.read_csv('./input/train.csv', header=0)\n",
    "test_orig =  pd.read_csv('./input/test.csv', header=0)"
   ]
  },
  {
   "cell_type": "code",
   "execution_count": 3,
   "metadata": {
    "collapsed": false
   },
   "outputs": [
    {
     "name": "stdout",
     "output_type": "stream",
     "text": [
      "(290654, 2) (299364, 2)\n",
      "(290654, 2) (299364, 2) (537933, 2)\n"
     ]
    }
   ],
   "source": [
    "# \"id\",\"qid1\",\"qid2\",\"question1\",\"question2\",\"is_duplicate\"\n",
    "df_id1 = train_orig[[\"qid1\", \"question1\"]].drop_duplicates(keep=\"first\").copy().reset_index(drop=True)\n",
    "df_id2 = train_orig[[\"qid2\", \"question2\"]].drop_duplicates(keep=\"first\").copy().reset_index(drop=True)\n",
    "\n",
    "df_id1.columns = [\"qid\", \"question\"]\n",
    "df_id2.columns = [\"qid\", \"question\"]\n",
    "\n",
    "print(df_id1.shape, df_id2.shape)\n",
    "\n",
    "df_id = pd.concat([df_id1, df_id2]).drop_duplicates(keep=\"first\").reset_index(drop=True)\n",
    "print(df_id1.shape, df_id2.shape, df_id.shape)"
   ]
  },
  {
   "cell_type": "code",
   "execution_count": 4,
   "metadata": {
    "collapsed": true
   },
   "outputs": [],
   "source": [
    "import csv\n",
    "dict_questions = df_id.set_index('question').to_dict()\n",
    "dict_questions = dict_questions[\"qid\"]\n",
    "\n",
    "new_id = 538000 # df_id[\"qid\"].max() ==> 537933\n",
    "\n",
    "def get_id(question):\n",
    "    global dict_questions \n",
    "    global new_id \n",
    "    \n",
    "    if question in dict_questions:\n",
    "        return dict_questions[question]\n",
    "    else:\n",
    "        new_id += 1\n",
    "        dict_questions[question] = new_id\n",
    "        return new_id"
   ]
  },
  {
   "cell_type": "code",
   "execution_count": 5,
   "metadata": {
    "collapsed": false
   },
   "outputs": [
    {
     "data": {
      "text/plain": [
       "537362"
      ]
     },
     "execution_count": 5,
     "metadata": {},
     "output_type": "execute_result"
    }
   ],
   "source": [
    "len(dict_questions)"
   ]
  },
  {
   "cell_type": "code",
   "execution_count": 6,
   "metadata": {
    "collapsed": false
   },
   "outputs": [
    {
     "name": "stdout",
     "output_type": "stream",
     "text": [
      "['test_id', 'question1', 'question2', 'qid1', 'qid2']\n"
     ]
    }
   ],
   "source": [
    "rows = []\n",
    "max_lines = 10\n",
    "if True:\n",
    "    with open('./input/test.csv', 'r', encoding=\"utf8\") as infile:\n",
    "        reader = csv.reader(infile, delimiter=\",\")\n",
    "        header = next(reader)\n",
    "        header.append('qid1')\n",
    "        header.append('qid2')\n",
    "        \n",
    "        if True:\n",
    "            print(header)\n",
    "            pos, max_lines = 0, 10*1000*1000\n",
    "            for row in reader:\n",
    "                # \"test_id\",\"question1\",\"question2\"\n",
    "                question1 = row[1]\n",
    "                question2 = row[2]\n",
    "\n",
    "                qid1 = get_id(question1)\n",
    "                qid2 = get_id(question2)\n",
    "                row.append(qid1)\n",
    "                row.append(qid2)\n",
    "\n",
    "                pos += 1\n",
    "                if pos >= max_lines:\n",
    "                    break\n",
    "                rows.append(row)"
   ]
  },
  {
   "cell_type": "code",
   "execution_count": 7,
   "metadata": {
    "collapsed": true
   },
   "outputs": [],
   "source": [
    "def create_qid(row, name):\n",
    "    return dict_questions[row[name]]"
   ]
  },
  {
   "cell_type": "code",
   "execution_count": 8,
   "metadata": {
    "collapsed": false
   },
   "outputs": [],
   "source": [
    "test_orig['qid1'] =  test_orig.apply(create_qid,name='question1',axis=1)"
   ]
  },
  {
   "cell_type": "code",
   "execution_count": 9,
   "metadata": {
    "collapsed": true
   },
   "outputs": [],
   "source": [
    "test_orig['qid2'] =  test_orig.apply(create_qid,name='question2',axis=1)"
   ]
  },
  {
   "cell_type": "code",
   "execution_count": 10,
   "metadata": {
    "collapsed": false
   },
   "outputs": [],
   "source": [
    "df_train = train_orig[['qid1','qid2']]"
   ]
  },
  {
   "cell_type": "code",
   "execution_count": 11,
   "metadata": {
    "collapsed": true
   },
   "outputs": [],
   "source": [
    "df_test = test_orig[['qid1','qid2']]"
   ]
  },
  {
   "cell_type": "code",
   "execution_count": null,
   "metadata": {
    "collapsed": true
   },
   "outputs": [],
   "source": [
    "train_orig[\"qmax\"]= train_orig.apply( lambda row: max(row[\"qid1\"], row[\"qid2\"]), axis=1 )\n",
    "test_orig[\"qmax\"]= train_orig.apply( lambda row: max(row[\"qid1\"], row[\"qid2\"]), axis=1 )"
   ]
  },
  {
   "cell_type": "code",
   "execution_count": 13,
   "metadata": {
    "collapsed": true
   },
   "outputs": [],
   "source": [
    "df = pd.concat([df_train, df_test])"
   ]
  },
  {
   "cell_type": "code",
   "execution_count": 29,
   "metadata": {
    "collapsed": true
   },
   "outputs": [],
   "source": [
    "df_all[\"qmax\"]= df_all.apply( lambda row: max(row[\"qid1\"], row[\"qid2\"]), axis=1 )"
   ]
  },
  {
   "cell_type": "code",
   "execution_count": 14,
   "metadata": {
    "collapsed": false
   },
   "outputs": [
    {
     "name": "stdout",
     "output_type": "stream",
     "text": [
      "2454493 4789603\n",
      "2750086 2743365\n",
      "df_output.shape: (4789603, 1)\n",
      "fieldname =  kcore2\n",
      "len(ck) =  104343\n",
      "fieldname =  kcore3\n",
      "len(ck) =  37019\n",
      "fieldname =  kcore4\n",
      "len(ck) =  20580\n",
      "fieldname =  kcore5\n",
      "len(ck) =  13552\n",
      "fieldname =  kcore6\n",
      "len(ck) =  9949\n",
      "fieldname =  kcore7\n",
      "len(ck) =  7674\n",
      "fieldname =  kcore8\n",
      "len(ck) =  6156\n",
      "fieldname =  kcore9\n",
      "len(ck) =  5124\n",
      "fieldname =  kcore10\n",
      "len(ck) =  4190\n",
      "fieldname =  kcore11\n",
      "len(ck) =  3606\n",
      "fieldname =  kcore12\n",
      "len(ck) =  2979\n",
      "fieldname =  kcore13\n",
      "len(ck) =  2529\n",
      "fieldname =  kcore14\n",
      "len(ck) =  2167\n",
      "fieldname =  kcore15\n",
      "len(ck) =  1807\n",
      "fieldname =  kcore16\n",
      "len(ck) =  1633\n",
      "fieldname =  kcore17\n",
      "len(ck) =  1523\n",
      "fieldname =  kcore18\n",
      "len(ck) =  1270\n",
      "fieldname =  kcore19\n",
      "len(ck) =  1125\n",
      "fieldname =  kcore20\n",
      "len(ck) =  1024\n"
     ]
    }
   ],
   "source": [
    "g = nx.Graph()\n",
    "\n",
    "g.add_nodes_from(df.qid1)\n",
    "\n",
    "edges = list(df[['qid1', 'qid2']].to_records(index=False))\n",
    "\n",
    "g.add_edges_from(edges)\n",
    "\n",
    "g.remove_edges_from(g.selfloop_edges())\n",
    "\n",
    "print(len(set(df.qid1)), g.number_of_nodes()) # 4789604\n",
    "\n",
    "print(len(df), g.number_of_edges()) # 2743365 (after self-edges)\n",
    "\n",
    "df_output = pd.DataFrame(data=g.nodes(), columns=[\"qid\"])\n",
    "\n",
    "print(\"df_output.shape:\", df_output.shape)\n",
    "\n",
    "NB_CORES = 20\n",
    "\n",
    "for k in range(2, NB_CORES + 1):\n",
    "\n",
    "    fieldname = \"kcore{}\".format(k)\n",
    "\n",
    "    print(\"fieldname = \", fieldname)\n",
    "\n",
    "    ck = nx.k_core(g, k=k).nodes()\n",
    "\n",
    "    print(\"len(ck) = \", len(ck))\n",
    "\n",
    "    df_output[fieldname] = 0\n",
    "\n",
    "    df_output.ix[df_output.qid.isin(ck), fieldname] = k\n",
    "\n",
    "df_output.to_csv(\"question_kcores.csv\", index=None)"
   ]
  },
  {
   "cell_type": "code",
   "execution_count": 15,
   "metadata": {
    "collapsed": true
   },
   "outputs": [],
   "source": [
    "df_cores = pd.read_csv(\"question_kcores.csv\", index_col=\"qid\")\n",
    "\n",
    "df_cores.index.names = [\"qid\"]\n",
    "\n",
    "df_cores['max_kcore'] = df_cores.apply(lambda row: max(row), axis=1)\n",
    "\n",
    "df_cores[['max_kcore']].to_csv(\"question_max_kcores.csv\")"
   ]
  },
  {
   "cell_type": "code",
   "execution_count": null,
   "metadata": {
    "collapsed": true
   },
   "outputs": [],
   "source": []
  }
 ],
 "metadata": {
  "kernelspec": {
   "display_name": "Python 3",
   "language": "python",
   "name": "python3"
  },
  "language_info": {
   "codemirror_mode": {
    "name": "ipython",
    "version": 3
   },
   "file_extension": ".py",
   "mimetype": "text/x-python",
   "name": "python",
   "nbconvert_exporter": "python",
   "pygments_lexer": "ipython3",
   "version": "3.6.0"
  }
 },
 "nbformat": 4,
 "nbformat_minor": 2
}
