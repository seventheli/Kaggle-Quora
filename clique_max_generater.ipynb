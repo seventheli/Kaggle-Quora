{
 "cells": [
  {
   "cell_type": "code",
   "execution_count": 3,
   "metadata": {
    "collapsed": false
   },
   "outputs": [],
   "source": [
    "import numpy as np\n",
    "import pandas as pd\n",
    "import networkx as nx\n",
    "from matplotlib import pyplot as plt\n",
    "import warnings\n",
    "import traceback\n",
    "TRAIN_PATH = \"./input/train.csv\"\n",
    "TEST_PATH = \"./input/test.csv\"\n",
    "train = pd.read_csv(TRAIN_PATH, encoding=\"ISO-8859-1\")\n",
    "test = pd.read_csv(TEST_PATH, encoding=\"ISO-8859-1\")"
   ]
  },
  {
   "cell_type": "code",
   "execution_count": 4,
   "metadata": {
    "collapsed": false
   },
   "outputs": [],
   "source": [
    "g = nx.Graph()\n",
    "g.add_nodes_from(train.question1)\n",
    "g.add_nodes_from(train.question2)\n",
    "g.add_nodes_from(test.question1)\n",
    "g.add_nodes_from(test.question2)\n",
    "edges = list(train[['question1', 'question2']].to_records(index=False)) + list(test[['question1', 'question2']].to_records(index=False))\n",
    "g.add_edges_from(edges)\n",
    "cc = nx.find_cliques(g)\n",
    "len_node = {}\n",
    "for each in cc:\n",
    "    len_clique = len(each)\n",
    "    for items in each:\n",
    "        try:\n",
    "            len_node[items].append(len_clique)\n",
    "        except:\n",
    "            len_node[items] = []\n",
    "            len_node[items].append(len_clique)"
   ]
  },
  {
   "cell_type": "code",
   "execution_count": 5,
   "metadata": {
    "collapsed": false
   },
   "outputs": [],
   "source": [
    "def get_largest(row,key):\n",
    "    word = row[key]\n",
    "    nodes = len_node[word]\n",
    "    return max(nodes)"
   ]
  },
  {
   "cell_type": "code",
   "execution_count": 6,
   "metadata": {
    "collapsed": false
   },
   "outputs": [],
   "source": [
    "def get_smallest(row,key):\n",
    "    word = row[key]\n",
    "    nodes = len_node[word]\n",
    "    return min(nodes)"
   ]
  },
  {
   "cell_type": "code",
   "execution_count": 7,
   "metadata": {
    "collapsed": false
   },
   "outputs": [],
   "source": [
    "def get_avg(row,key):\n",
    "    word = row[key]\n",
    "    nodes = len_node[word]\n",
    "    total = 0\n",
    "    for items in nodes:\n",
    "        total += items\n",
    "    avg = total/len(nodes)\n",
    "    return avg"
   ]
  },
  {
   "cell_type": "code",
   "execution_count": 8,
   "metadata": {
    "collapsed": false
   },
   "outputs": [],
   "source": [
    "train['q1_max'] = train.apply(get_largest,key='question1', axis=1, raw=True)\n",
    "train['q2_max'] = train.apply(get_largest,key='question2', axis=1, raw=True)\n",
    "train['q1_min'] = train.apply(get_smallest,key='question1', axis=1, raw=True)\n",
    "train['q2_min'] = train.apply(get_smallest,key='question2', axis=1, raw=True)\n",
    "train['q1_avg'] = train.apply(get_avg,key='question1', axis=1, raw=True)\n",
    "train['q2_avg'] = train.apply(get_avg,key='question2', axis=1, raw=True)"
   ]
  },
  {
   "cell_type": "code",
   "execution_count": 9,
   "metadata": {
    "collapsed": true
   },
   "outputs": [],
   "source": [
    "test['q1_max'] = test.apply(get_largest,key='question1', axis=1, raw=True)\n",
    "test['q2_max'] = test.apply(get_largest,key='question2', axis=1, raw=True)\n",
    "test['q1_min'] = test.apply(get_smallest,key='question1', axis=1, raw=True)\n",
    "test['q2_min'] = test.apply(get_smallest,key='question2', axis=1, raw=True)\n",
    "test['q1_avg'] = test.apply(get_avg,key='question1', axis=1, raw=True)\n",
    "test['q2_avg'] = test.apply(get_avg,key='question2', axis=1, raw=True)"
   ]
  },
  {
   "cell_type": "code",
   "execution_count": 10,
   "metadata": {
    "collapsed": true
   },
   "outputs": [],
   "source": [
    "g = nx.Graph()\n",
    "g.add_nodes_from(train.question1)\n",
    "g.add_nodes_from(train.question2)\n",
    "g.add_nodes_from(test.question1)\n",
    "g.add_nodes_from(test.question2)\n",
    "edges = list(train[['question1', 'question2']].to_records(index=False)) + list(test[['question1', 'question2']].to_records(index=False))\n",
    "g.add_edges_from(edges)\n",
    "cc = nx.find_cliques(g)"
   ]
  },
  {
   "cell_type": "code",
   "execution_count": 11,
   "metadata": {
    "collapsed": true
   },
   "outputs": [],
   "source": [
    "all_cliques = {}"
   ]
  },
  {
   "cell_type": "code",
   "execution_count": 12,
   "metadata": {
    "collapsed": false
   },
   "outputs": [],
   "source": [
    "for each in cc:\n",
    "    obj = tuple(each)\n",
    "    for items in each:\n",
    "        key = items\n",
    "        try:\n",
    "            all_cliques[key].add(obj)\n",
    "        except:\n",
    "            all_cliques[key] = set()\n",
    "            all_cliques[key].add(obj)"
   ]
  },
  {
   "cell_type": "code",
   "execution_count": 13,
   "metadata": {
    "collapsed": false
   },
   "outputs": [],
   "source": [
    "def get_simultaneously_exist(row):\n",
    "    q1 = row['question1']\n",
    "    q2 = row['question2']\n",
    "    cliques = all_cliques[q1]\n",
    "    largest = 0\n",
    "    for each in cliques:\n",
    "        if q2 in each and len(each) > largest:\n",
    "            largest = len(each)\n",
    "    return largest"
   ]
  },
  {
   "cell_type": "code",
   "execution_count": 14,
   "metadata": {
    "collapsed": false
   },
   "outputs": [],
   "source": [
    "train['largest_simultaneously_exist'] = train.apply(get_simultaneously_exist, axis=1, raw=True)"
   ]
  },
  {
   "cell_type": "code",
   "execution_count": 15,
   "metadata": {
    "collapsed": false
   },
   "outputs": [],
   "source": [
    "test['largest_simultaneously_exist'] = test.apply(get_simultaneously_exist, axis=1, raw=True)"
   ]
  },
  {
   "cell_type": "code",
   "execution_count": 16,
   "metadata": {
    "collapsed": false
   },
   "outputs": [],
   "source": [
    "g = nx.Graph()\n",
    "g.add_nodes_from(train.question1)\n",
    "g.add_nodes_from(train.question2)\n",
    "g.add_nodes_from(test.question1)\n",
    "g.add_nodes_from(test.question2)\n",
    "edges = list(train[['question1', 'question2']].to_records(index=False)) + list(test[['question1', 'question2']].to_records(index=False))\n",
    "g.add_edges_from(edges)\n",
    "cc = nx.find_cliques(g)\n",
    "result = {}\n",
    "for each in cc:\n",
    "    for items in each:\n",
    "        key = items\n",
    "        value = hash(tuple(each))\n",
    "        try:\n",
    "            result[key].add(value)\n",
    "        except:\n",
    "            result[key] = set()\n",
    "            result[key].add(value)"
   ]
  },
  {
   "cell_type": "code",
   "execution_count": 17,
   "metadata": {
    "collapsed": false
   },
   "outputs": [],
   "source": [
    "def get_question1_cliques(row):\n",
    "    try:\n",
    "        len_q1 = len(result[row['question1']])\n",
    "    except:\n",
    "        len_q1 = 0\n",
    "    return len_q1"
   ]
  },
  {
   "cell_type": "code",
   "execution_count": 18,
   "metadata": {
    "collapsed": false
   },
   "outputs": [],
   "source": [
    "def get_question2_cliques(row):\n",
    "    try:\n",
    "        len_q2 = len(result[row['question2']])\n",
    "    except:\n",
    "        len_q2 = 0\n",
    "    return len_q2"
   ]
  },
  {
   "cell_type": "code",
   "execution_count": 19,
   "metadata": {
    "collapsed": true
   },
   "outputs": [],
   "source": [
    "train['question1_cliques'] = train.apply(get_question1_cliques, axis=1, raw=True)\n",
    "train['question2_cliques'] = train.apply(get_question2_cliques, axis=1, raw=True)"
   ]
  },
  {
   "cell_type": "code",
   "execution_count": 20,
   "metadata": {
    "collapsed": false
   },
   "outputs": [],
   "source": [
    "test['question1_cliques'] = test.apply(get_question1_cliques, axis=1, raw=True)\n",
    "test['question2_cliques'] = test.apply(get_question2_cliques, axis=1, raw=True)"
   ]
  },
  {
   "cell_type": "code",
   "execution_count": 21,
   "metadata": {
    "collapsed": true
   },
   "outputs": [],
   "source": [
    "def get_larger_cliques_len(row):\n",
    "    if row['q1_max'] > row['q2_max']:\n",
    "        return row['q1_max']\n",
    "    else:\n",
    "        return row['q2_max']"
   ]
  },
  {
   "cell_type": "code",
   "execution_count": 22,
   "metadata": {
    "collapsed": true
   },
   "outputs": [],
   "source": [
    "def get_smaller_cliques_len(row):\n",
    "    if row['q1_max'] > row['q2_max']:\n",
    "        return row['q2_max']\n",
    "    else:\n",
    "        return row['q1_max']"
   ]
  },
  {
   "cell_type": "code",
   "execution_count": 23,
   "metadata": {
    "collapsed": true
   },
   "outputs": [],
   "source": [
    "train['larger_cliques_len'] = train.apply(get_larger_cliques_len, axis=1, raw=True)"
   ]
  },
  {
   "cell_type": "code",
   "execution_count": 24,
   "metadata": {
    "collapsed": true
   },
   "outputs": [],
   "source": [
    "train['smaller_cliques_len'] = train.apply(get_smaller_cliques_len, axis=1, raw=True)"
   ]
  },
  {
   "cell_type": "code",
   "execution_count": 25,
   "metadata": {
    "collapsed": true
   },
   "outputs": [],
   "source": [
    "test['larger_cliques_len'] = test.apply(get_larger_cliques_len, axis=1, raw=True)\n",
    "test['smaller_cliques_len'] = test.apply(get_smaller_cliques_len, axis=1, raw=True)"
   ]
  },
  {
   "cell_type": "code",
   "execution_count": 28,
   "metadata": {
    "collapsed": false
   },
   "outputs": [],
   "source": [
    "train = train.iloc[:, 6:]"
   ]
  },
  {
   "cell_type": "code",
   "execution_count": 29,
   "metadata": {
    "collapsed": true
   },
   "outputs": [],
   "source": [
    "index = train.axes[1]"
   ]
  },
  {
   "cell_type": "code",
   "execution_count": 30,
   "metadata": {
    "collapsed": false
   },
   "outputs": [
    {
     "data": {
      "text/plain": [
       "Index(['q1_max', 'q2_max', 'q1_min', 'q2_min', 'q1_avg', 'q2_avg',\n",
       "       'largest_simultaneously_exist', 'question1_cliques',\n",
       "       'question2_cliques', 'larger_cliques_len', 'smaller_cliques_len'],\n",
       "      dtype='object')"
      ]
     },
     "execution_count": 30,
     "metadata": {},
     "output_type": "execute_result"
    }
   ],
   "source": [
    "index"
   ]
  },
  {
   "cell_type": "code",
   "execution_count": 34,
   "metadata": {
    "collapsed": true
   },
   "outputs": [],
   "source": [
    "result = pd.read_csv('./input/train.csv', encoding=\"ISO-8859-1\")"
   ]
  },
  {
   "cell_type": "code",
   "execution_count": 35,
   "metadata": {
    "collapsed": true
   },
   "outputs": [],
   "source": [
    "from sklearn.metrics import roc_auc_score"
   ]
  },
  {
   "cell_type": "code",
   "execution_count": 36,
   "metadata": {
    "collapsed": false
   },
   "outputs": [
    {
     "name": "stdout",
     "output_type": "stream",
     "text": [
      "q1_max\n",
      "0.789100218234\n",
      "q2_max\n",
      "0.781428188643\n",
      "q1_min\n",
      "0.716940029561\n",
      "q2_min\n",
      "0.717117626094\n",
      "q1_avg\n",
      "0.795252693248\n",
      "q2_avg\n",
      "0.792872918352\n",
      "largest_simultaneously_exist\n",
      "0.801928619629\n",
      "question1_cliques\n",
      "0.577371348117\n",
      "question2_cliques\n",
      "0.597784421232\n",
      "larger_cliques_len\n",
      "0.771350499259\n",
      "smaller_cliques_len\n",
      "0.799955187305\n"
     ]
    }
   ],
   "source": [
    "for each in index:\n",
    "    print(each)\n",
    "    print(roc_auc_score(result['is_duplicate'],train[each]))"
   ]
  },
  {
   "cell_type": "code",
   "execution_count": 39,
   "metadata": {
    "collapsed": false
   },
   "outputs": [],
   "source": [
    "test = test.iloc[:, 3:]"
   ]
  },
  {
   "cell_type": "code",
   "execution_count": 40,
   "metadata": {
    "collapsed": false
   },
   "outputs": [],
   "source": [
    "train.to_csv('./input/train_cliques.csv', index=False)"
   ]
  },
  {
   "cell_type": "code",
   "execution_count": 41,
   "metadata": {
    "collapsed": true
   },
   "outputs": [],
   "source": [
    "test.to_csv('./input/test_cliques.csv', index=False)"
   ]
  },
  {
   "cell_type": "code",
   "execution_count": null,
   "metadata": {
    "collapsed": true
   },
   "outputs": [],
   "source": []
  }
 ],
 "metadata": {
  "kernelspec": {
   "display_name": "Python 3",
   "language": "python",
   "name": "python3"
  },
  "language_info": {
   "codemirror_mode": {
    "name": "ipython",
    "version": 3
   },
   "file_extension": ".py",
   "mimetype": "text/x-python",
   "name": "python",
   "nbconvert_exporter": "python",
   "pygments_lexer": "ipython3",
   "version": "3.6.0"
  }
 },
 "nbformat": 4,
 "nbformat_minor": 2
}
